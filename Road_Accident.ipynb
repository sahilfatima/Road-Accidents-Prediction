{
  "metadata": {
    "kernelspec": {
      "language": "python",
      "display_name": "Python 3",
      "name": "python3"
    },
    "language_info": {
      "name": "python",
      "version": "3.10.12",
      "mimetype": "text/x-python",
      "codemirror_mode": {
        "name": "ipython",
        "version": 3
      },
      "pygments_lexer": "ipython3",
      "nbconvert_exporter": "python",
      "file_extension": ".py"
    },
    "kaggle": {
      "accelerator": "none",
      "dataSources": [
        {
          "sourceId": 7292741,
          "sourceType": "datasetVersion",
          "datasetId": 4229738
        }
      ],
      "dockerImageVersionId": 30626,
      "isInternetEnabled": true,
      "language": "python",
      "sourceType": "notebook",
      "isGpuEnabled": false
    },
    "colab": {
      "name": "Road Accident",
      "provenance": [],
      "include_colab_link": true
    }
  },
  "nbformat_minor": 0,
  "nbformat": 4,
  "cells": [
    {
      "cell_type": "markdown",
      "metadata": {
        "id": "view-in-github",
        "colab_type": "text"
      },
      "source": [
        "<a href=\"https://colab.research.google.com/github/sahilfatima/Road-Accidents-Prediction/blob/main/Road_Accident.ipynb\" target=\"_parent\"><img src=\"https://colab.research.google.com/assets/colab-badge.svg\" alt=\"Open In Colab\"/></a>"
      ]
    },
    {
      "source": [
        "import os\n",
        "import sys\n",
        "from tempfile import NamedTemporaryFile\n",
        "from urllib.request import urlopen\n",
        "from urllib.parse import unquote, urlparse\n",
        "from urllib.error import HTTPError\n",
        "from zipfile import ZipFile\n",
        "import tarfile\n",
        "import shutil\n",
        "\n",
        "CHUNK_SIZE = 40960\n",
        "DATA_SOURCE_MAPPING = 'road-accident-casualties:https%3A%2F%2Fstorage.googleapis.com%2Fkaggle-data-sets%2F4229738%2F7292741%2Fbundle%2Farchive.zip%3FX-Goog-Algorithm%3DGOOG4-RSA-SHA256%26X-Goog-Credential%3Dgcp-kaggle-com%2540kaggle-161607.iam.gserviceaccount.com%252F20240202%252Fauto%252Fstorage%252Fgoog4_request%26X-Goog-Date%3D20240202T083532Z%26X-Goog-Expires%3D259200%26X-Goog-SignedHeaders%3Dhost%26X-Goog-Signature%3D48eb18357f02df0794bba713854474ab61bb66419849068f902c8a4a2b4ff55dc6e527455261fc601f0eea465e5bca2cd93601dbcd34356f4f586f820f29836051347a1899cc1a81d4ca05ca1dd9936c25f103c0623abfcca52f69b555f2c2b7dba7e0c02eabfda4b1b58f735d516a689c4db2cfb9745367ccb00be14187bd984e198b9292fe0292ff0bbaf5f834d3a4d963da28ac8f116efc65fbef65fcf2fcc9cea61fafb0f3d7ba7b7c6c81950582e64ed0139495fceea103995a66a8c853a10852a48e8c86e5509af28cd8d0d9a77028280e0e664e401aba74ec162091593b668945fdd493821e6b49b064d5606ef1e33805d158f1083671362ef8ac50d0'\n",
        "\n",
        "KAGGLE_INPUT_PATH='/kaggle/input'\n",
        "KAGGLE_WORKING_PATH='/kaggle/working'\n",
        "KAGGLE_SYMLINK='kaggle'\n",
        "\n",
        "!umount /kaggle/input/ 2> /dev/null\n",
        "shutil.rmtree('/kaggle/input', ignore_errors=True)\n",
        "os.makedirs(KAGGLE_INPUT_PATH, 0o777, exist_ok=True)\n",
        "os.makedirs(KAGGLE_WORKING_PATH, 0o777, exist_ok=True)\n",
        "\n",
        "try:\n",
        "  os.symlink(KAGGLE_INPUT_PATH, os.path.join(\"..\", 'input'), target_is_directory=True)\n",
        "except FileExistsError:\n",
        "  pass\n",
        "try:\n",
        "  os.symlink(KAGGLE_WORKING_PATH, os.path.join(\"..\", 'working'), target_is_directory=True)\n",
        "except FileExistsError:\n",
        "  pass\n",
        "\n",
        "for data_source_mapping in DATA_SOURCE_MAPPING.split(','):\n",
        "    directory, download_url_encoded = data_source_mapping.split(':')\n",
        "    download_url = unquote(download_url_encoded)\n",
        "    filename = urlparse(download_url).path\n",
        "    destination_path = os.path.join(KAGGLE_INPUT_PATH, directory)\n",
        "    try:\n",
        "        with urlopen(download_url) as fileres, NamedTemporaryFile() as tfile:\n",
        "            total_length = fileres.headers['content-length']\n",
        "            print(f'Downloading {directory}, {total_length} bytes compressed')\n",
        "            dl = 0\n",
        "            data = fileres.read(CHUNK_SIZE)\n",
        "            while len(data) > 0:\n",
        "                dl += len(data)\n",
        "                tfile.write(data)\n",
        "                done = int(50 * dl / int(total_length))\n",
        "                sys.stdout.write(f\"\\r[{'=' * done}{' ' * (50-done)}] {dl} bytes downloaded\")\n",
        "                sys.stdout.flush()\n",
        "                data = fileres.read(CHUNK_SIZE)\n",
        "            if filename.endswith('.zip'):\n",
        "              with ZipFile(tfile) as zfile:\n",
        "                zfile.extractall(destination_path)\n",
        "            else:\n",
        "              with tarfile.open(tfile.name) as tarfile:\n",
        "                tarfile.extractall(destination_path)\n",
        "            print(f'\\nDownloaded and uncompressed: {directory}')\n",
        "    except HTTPError as e:\n",
        "        print(f'Failed to load (likely expired) {download_url} to path {destination_path}')\n",
        "        continue\n",
        "    except OSError as e:\n",
        "        print(f'Failed to load {download_url} to path {destination_path}')\n",
        "        continue\n",
        "\n",
        "print('Data source import complete.')\n"
      ],
      "metadata": {
        "id": "Vj8fakY29YB9"
      },
      "cell_type": "code",
      "outputs": [],
      "execution_count": null
    },
    {
      "cell_type": "code",
      "source": [
        "import numpy as np # linear algebra\n",
        "import pandas as pd # data processing, CSV file I/O (e.g. pd.read_csv)\n",
        "\n",
        "import os\n",
        "for dirname, _, filenames in os.walk('/kaggle/input'):\n",
        "    for filename in filenames:\n",
        "        print(os.path.join(dirname, filename))"
      ],
      "metadata": {
        "_uuid": "8f2839f25d086af736a60e9eeb907d3b93b6e0e5",
        "_cell_guid": "b1076dfc-b9ad-4769-8c92-a6c4dae69d19",
        "execution": {
          "iopub.status.busy": "2024-01-08T10:16:18.320976Z",
          "iopub.execute_input": "2024-01-08T10:16:18.321369Z",
          "iopub.status.idle": "2024-01-08T10:16:18.679954Z",
          "shell.execute_reply.started": "2024-01-08T10:16:18.321336Z",
          "shell.execute_reply": "2024-01-08T10:16:18.677994Z"
        },
        "trusted": true,
        "id": "IA2bDrrY9YCA"
      },
      "execution_count": null,
      "outputs": []
    },
    {
      "cell_type": "code",
      "source": [
        "import seaborn as sns\n",
        "import matplotlib.pyplot as plt\n",
        "from datetime import datetime as dt\n",
        "import plotly_express as px"
      ],
      "metadata": {
        "execution": {
          "iopub.status.busy": "2024-01-08T10:17:07.13153Z",
          "iopub.execute_input": "2024-01-08T10:17:07.132091Z",
          "iopub.status.idle": "2024-01-08T10:17:08.452408Z",
          "shell.execute_reply.started": "2024-01-08T10:17:07.132065Z",
          "shell.execute_reply": "2024-01-08T10:17:08.451013Z"
        },
        "trusted": true,
        "id": "-5xV2MyB9YCA"
      },
      "execution_count": null,
      "outputs": []
    },
    {
      "cell_type": "code",
      "source": [
        "#Reading a csv file\n",
        "df = pd.read_csv('/kaggle/input/road-accident-casualties/data_accident.csv')\n",
        "df['Accident_Date'] = pd.to_datetime(df['Accident_Date'], yearfirst=True)\n",
        "df['Year'] = df['Accident_Date'].dt.year\n",
        "df['Month'] = df['Accident_Date'].dt.strftime('%B')\n",
        "df['Day'] = df['Accident_Date'].dt.day\n",
        "df['Week_Day'] = df['Accident_Date'].dt.strftime('%A')\n",
        "df = df.groupby(['Accident_Date','Year','Month','Week_Day','Day'])['Accident_Date'].count().reset_index(name='Count')\n",
        "df.head(3)"
      ],
      "metadata": {
        "execution": {
          "iopub.status.busy": "2024-01-08T10:18:28.285287Z",
          "iopub.execute_input": "2024-01-08T10:18:28.285865Z",
          "iopub.status.idle": "2024-01-08T10:18:34.038141Z",
          "shell.execute_reply.started": "2024-01-08T10:18:28.28584Z",
          "shell.execute_reply": "2024-01-08T10:18:34.036709Z"
        },
        "trusted": true,
        "id": "AuDrwrin9YCA"
      },
      "execution_count": null,
      "outputs": []
    },
    {
      "cell_type": "code",
      "source": [
        "#Visualising data\n",
        "plt.figure(figsize=(15,4))\n",
        "plt.subplot(121)\n",
        "sns.histplot(df, x='Count');\n",
        "plt.title('Distribution of the number of accidents per day')\n",
        "plt.subplot(122)\n",
        "sns.boxplot(df, x='Year', y='Count');\n",
        "plt.title('Statistical Distribution of the number of accidents per day')\n",
        "plt.show()"
      ],
      "metadata": {
        "execution": {
          "iopub.status.busy": "2024-01-08T10:19:26.103166Z",
          "iopub.execute_input": "2024-01-08T10:19:26.103664Z",
          "iopub.status.idle": "2024-01-08T10:19:26.55525Z",
          "shell.execute_reply.started": "2024-01-08T10:19:26.103622Z",
          "shell.execute_reply": "2024-01-08T10:19:26.553336Z"
        },
        "trusted": true,
        "id": "JHDl1S6i9YCB"
      },
      "execution_count": null,
      "outputs": []
    },
    {
      "cell_type": "code",
      "source": [
        "#Showing number of road accidents in week, month and year\n",
        "plt.figure(figsize=(20,5))\n",
        "plt.subplot(131)\n",
        "sns.barplot(\n",
        "    df.groupby('Week_Day')['Count'].sum().reset_index(name='Count').sort_values(\n",
        "        by='Count', ascending=False), x='Week_Day', y='Count')\n",
        "plt.title('Accident Number by Day of Week Day');\n",
        "plt.xticks(rotation=45)\n",
        "plt.subplot(132)\n",
        "sns.barplot(\n",
        "    df.groupby('Month')['Count'].sum().reset_index(name='Count').sort_values(\n",
        "        by='Count', ascending=False), x='Month', y='Count')\n",
        "plt.title('Accident Number by Month')\n",
        "plt.xticks(rotation=45)\n",
        "plt.subplot(133)\n",
        "sns.barplot(\n",
        "    df.groupby('Year')['Count'].sum().reset_index(name='Count'), x='Year', y='Count')\n",
        "plt.title('Accident Number by Year')\n",
        "plt.xticks(rotation=45)\n",
        "plt.show()"
      ],
      "metadata": {
        "execution": {
          "iopub.status.busy": "2024-01-08T10:20:36.028257Z",
          "iopub.execute_input": "2024-01-08T10:20:36.028758Z",
          "iopub.status.idle": "2024-01-08T10:20:36.620203Z",
          "shell.execute_reply.started": "2024-01-08T10:20:36.028703Z",
          "shell.execute_reply": "2024-01-08T10:20:36.616799Z"
        },
        "trusted": true,
        "id": "GpTPOCG69YCB"
      },
      "execution_count": null,
      "outputs": []
    },
    {
      "cell_type": "code",
      "source": [
        "#Road Accidents in year by each months\n",
        "list_month = df.Month.unique()\n",
        "for month in list_month:\n",
        "    plt.figure(figsize=(15,4))\n",
        "    sns.lineplot(data=df.query(f\"Month=='{month}'\"), x='Day', y='Count', hue='Year')\n",
        "    plt.grid(axis='y', color='black', linestyle='-', linewidth=0.1)\n",
        "    plt.title(f\"Accident Number by Month: {month}\")\n",
        "    plt.ylim(0, 700)\n",
        "    plt.show()"
      ],
      "metadata": {
        "execution": {
          "iopub.status.busy": "2024-01-08T10:21:28.216225Z",
          "iopub.execute_input": "2024-01-08T10:21:28.21669Z",
          "iopub.status.idle": "2024-01-08T10:21:32.013056Z",
          "shell.execute_reply.started": "2024-01-08T10:21:28.216646Z",
          "shell.execute_reply": "2024-01-08T10:21:32.011461Z"
        },
        "trusted": true,
        "id": "zVVuxHDE9YCB"
      },
      "execution_count": null,
      "outputs": []
    },
    {
      "cell_type": "code",
      "source": [
        "#Determining the Longitude and Latitude of Roads\n",
        "df2 = pd.read_csv('/kaggle/input/road-accident-casualties/latitutde_accident.csv')\n",
        "df3 = pd.read_csv('/kaggle/input/road-accident-casualties/longitutde_accident.csv')\n",
        "\n",
        "print(df2.shape, df3.shape)\n",
        "print(df2.columns, df3.columns)"
      ],
      "metadata": {
        "execution": {
          "iopub.status.busy": "2024-01-08T10:23:00.217812Z",
          "iopub.execute_input": "2024-01-08T10:23:00.218272Z",
          "iopub.status.idle": "2024-01-08T10:23:00.504145Z",
          "shell.execute_reply.started": "2024-01-08T10:23:00.218239Z",
          "shell.execute_reply": "2024-01-08T10:23:00.502871Z"
        },
        "trusted": true,
        "id": "Uy3_e_P29YCB"
      },
      "execution_count": null,
      "outputs": []
    },
    {
      "cell_type": "code",
      "source": [
        "#Finding length\n",
        "lat_long_data = list(zip(df2['Latitude'], df3['Longitude']))\n",
        "lat_long = pd.DataFrame(lat_long_data, columns=['Latitude', 'Longitude'])\n",
        "lat_long['Local'] = 1\n",
        "df_lat_long = lat_long.groupby(['Latitude','Longitude'])['Local'].sum().sort_values(ascending=False)\n",
        "display(df_lat_long)"
      ],
      "metadata": {
        "execution": {
          "iopub.status.busy": "2024-01-08T10:23:38.849904Z",
          "iopub.execute_input": "2024-01-08T10:23:38.850347Z",
          "iopub.status.idle": "2024-01-08T10:23:39.745142Z",
          "shell.execute_reply.started": "2024-01-08T10:23:38.850315Z",
          "shell.execute_reply": "2024-01-08T10:23:39.744201Z"
        },
        "trusted": true,
        "id": "G9ncpEWi9YCC"
      },
      "execution_count": null,
      "outputs": []
    },
    {
      "cell_type": "code",
      "source": [
        "#Location\n",
        "locais_mais_5 = df_lat_long[df_lat_long.values > 5].count()\n",
        "locais_mais_5"
      ],
      "metadata": {
        "execution": {
          "iopub.status.busy": "2024-01-08T10:24:06.991119Z",
          "iopub.execute_input": "2024-01-08T10:24:06.992642Z",
          "iopub.status.idle": "2024-01-08T10:24:07.003155Z",
          "shell.execute_reply.started": "2024-01-08T10:24:06.992548Z",
          "shell.execute_reply": "2024-01-08T10:24:07.001619Z"
        },
        "trusted": true,
        "id": "O_0-0Rnt9YCC"
      },
      "execution_count": null,
      "outputs": []
    },
    {
      "cell_type": "code",
      "source": [
        "data_mais_5 = df_lat_long[df_lat_long.values > 5]\n",
        "data_mais_5 = data_mais_5.reset_index()\n",
        "data_mais_5"
      ],
      "metadata": {
        "execution": {
          "iopub.status.busy": "2024-01-08T10:24:44.474011Z",
          "iopub.execute_input": "2024-01-08T10:24:44.474422Z",
          "iopub.status.idle": "2024-01-08T10:24:44.489372Z",
          "shell.execute_reply.started": "2024-01-08T10:24:44.474394Z",
          "shell.execute_reply": "2024-01-08T10:24:44.488011Z"
        },
        "trusted": true,
        "id": "ZE7LFcba9YCC"
      },
      "execution_count": null,
      "outputs": []
    },
    {
      "cell_type": "code",
      "source": [
        "#Using map to visualise accidents more than 5\n",
        "fig = px.scatter_mapbox(data_mais_5, lat=\"Latitude\", lon=\"Longitude\",\n",
        "                        color='Local', zoom=3, height=500, )\n",
        "fig.update_layout(mapbox_style=\"open-street-map\")\n",
        "fig.update_layout(margin={\"r\":0,\"t\":0,\"l\":0,\"b\":0})\n",
        "fig.show()"
      ],
      "metadata": {
        "execution": {
          "iopub.status.busy": "2024-01-08T10:25:34.760122Z",
          "iopub.execute_input": "2024-01-08T10:25:34.760589Z",
          "iopub.status.idle": "2024-01-08T10:25:36.791977Z",
          "shell.execute_reply.started": "2024-01-08T10:25:34.760554Z",
          "shell.execute_reply": "2024-01-08T10:25:36.790795Z"
        },
        "trusted": true,
        "id": "25p0NPpp9YCC"
      },
      "execution_count": null,
      "outputs": []
    },
    {
      "cell_type": "code",
      "source": [
        "#Road accidents more than 15\n",
        "locais_mais_15 = df_lat_long[df_lat_long.values > 15].count()\n",
        "data_mais_15 = df_lat_long[df_lat_long.values > 15]\n",
        "data_mais_15 = data_mais_15.reset_index()\n",
        "fig = px.scatter_mapbox(data_mais_15, lat=\"Latitude\", lon=\"Longitude\",\n",
        "                        color='Local', zoom=3, height=500, )\n",
        "fig.update_layout(mapbox_style=\"open-street-map\")\n",
        "fig.update_layout(margin={\"r\":0,\"t\":0,\"l\":0,\"b\":0})\n",
        "fig.show()"
      ],
      "metadata": {
        "execution": {
          "iopub.status.busy": "2024-01-08T10:26:51.319581Z",
          "iopub.execute_input": "2024-01-08T10:26:51.320019Z",
          "iopub.status.idle": "2024-01-08T10:26:51.383934Z",
          "shell.execute_reply.started": "2024-01-08T10:26:51.319989Z",
          "shell.execute_reply": "2024-01-08T10:26:51.382377Z"
        },
        "trusted": true,
        "id": "Kj9r7z899YCC"
      },
      "execution_count": null,
      "outputs": []
    },
    {
      "cell_type": "code",
      "source": [
        "#Light affecting driving; resulting into Accidents\n",
        "df3 = pd.read_csv('/kaggle/input/road-accident-casualties/dark-light_accident.csv')\n",
        "df3['Light_Conditions'].value_counts(normalize=1).reset_index(name='Accident %')"
      ],
      "metadata": {
        "execution": {
          "iopub.status.busy": "2024-01-08T10:28:01.060625Z",
          "iopub.execute_input": "2024-01-08T10:28:01.061093Z",
          "iopub.status.idle": "2024-01-08T10:28:01.225057Z",
          "shell.execute_reply.started": "2024-01-08T10:28:01.061059Z",
          "shell.execute_reply": "2024-01-08T10:28:01.223504Z"
        },
        "trusted": true,
        "id": "EgwH31Ci9YCC"
      },
      "execution_count": null,
      "outputs": []
    },
    {
      "cell_type": "code",
      "source": [
        "#Rural and Urban accidents\n",
        "df4 = pd.read_csv('/kaggle/input/road-accident-casualties/ubar_rural_area.csv')\n",
        "df4['Urban_or_Rural_Area'].value_counts(normalize=1).reset_index(name='%')"
      ],
      "metadata": {
        "execution": {
          "iopub.status.busy": "2024-01-08T10:28:51.734601Z",
          "iopub.execute_input": "2024-01-08T10:28:51.73505Z",
          "iopub.status.idle": "2024-01-08T10:28:51.869993Z",
          "shell.execute_reply.started": "2024-01-08T10:28:51.735016Z",
          "shell.execute_reply": "2024-01-08T10:28:51.869305Z"
        },
        "trusted": true,
        "id": "zglfUv479YCC"
      },
      "execution_count": null,
      "outputs": []
    },
    {
      "cell_type": "code",
      "source": [
        "#Severity of accidents\n",
        "df5 = pd.read_csv('/kaggle/input/road-accident-casualties/accident_fatal.csv')\n",
        "df5['Accident_Severity'].value_counts(normalize=1).reset_index(name='%')"
      ],
      "metadata": {
        "execution": {
          "iopub.status.busy": "2024-01-08T10:29:30.458064Z",
          "iopub.execute_input": "2024-01-08T10:29:30.459867Z",
          "iopub.status.idle": "2024-01-08T10:29:30.59835Z",
          "shell.execute_reply.started": "2024-01-08T10:29:30.45978Z",
          "shell.execute_reply": "2024-01-08T10:29:30.597229Z"
        },
        "trusted": true,
        "id": "dbkpTNRL9YCC"
      },
      "execution_count": null,
      "outputs": []
    },
    {
      "cell_type": "code",
      "source": [
        "#Districts with high ratio of accidents and with lowers\n",
        "df6 = pd.read_csv('/kaggle/input/road-accident-casualties/disctrit-area_accident.csv')\n",
        "plt.figure(figsize=(16,4))\n",
        "plt.subplot(121)\n",
        "sns.barplot(data = df6['District_Area'].value_counts().reset_index(name='Count').head(10), x='District_Area', y='Count')\n",
        "plt.title('Districts with the most accidents')\n",
        "plt.xticks(rotation=45)\n",
        "plt.subplot(122)\n",
        "sns.barplot(data = df6['District_Area'].value_counts().reset_index(name='Count').tail(10), x='District_Area', y='Count')\n",
        "plt.title('Districts with the fewer accidents')\n",
        "plt.xticks(rotation=45)\n",
        "plt.show()"
      ],
      "metadata": {
        "execution": {
          "iopub.status.busy": "2024-01-08T10:30:18.033587Z",
          "iopub.execute_input": "2024-01-08T10:30:18.033993Z",
          "iopub.status.idle": "2024-01-08T10:30:18.634494Z",
          "shell.execute_reply.started": "2024-01-08T10:30:18.033969Z",
          "shell.execute_reply": "2024-01-08T10:30:18.633441Z"
        },
        "trusted": true,
        "id": "hy6J6v8O9YCC"
      },
      "execution_count": null,
      "outputs": []
    },
    {
      "cell_type": "code",
      "source": [
        "#Road Conditions effecting driving\n",
        "df7 = pd.read_csv('/kaggle/input/road-accident-casualties/road-surface-condictions_accident.csv')\n",
        "df7['Road_Surface_Conditions'].value_counts(normalize=1).reset_index(name='%')"
      ],
      "metadata": {
        "execution": {
          "iopub.status.busy": "2024-01-08T10:30:59.646909Z",
          "iopub.execute_input": "2024-01-08T10:30:59.647316Z",
          "iopub.status.idle": "2024-01-08T10:30:59.780996Z",
          "shell.execute_reply.started": "2024-01-08T10:30:59.647286Z",
          "shell.execute_reply": "2024-01-08T10:30:59.779572Z"
        },
        "trusted": true,
        "id": "apsn_LMp9YCC"
      },
      "execution_count": null,
      "outputs": []
    },
    {
      "cell_type": "code",
      "source": [
        "#Road type causing accidents\n",
        "df8 = pd.read_csv('/kaggle/input/road-accident-casualties/road_type- corrigir G-sheets.csv')\n",
        "df8['Road_Type'].value_counts(normalize=1).reset_index(name='%')"
      ],
      "metadata": {
        "execution": {
          "iopub.status.busy": "2024-01-08T10:31:38.136813Z",
          "iopub.execute_input": "2024-01-08T10:31:38.137283Z",
          "iopub.status.idle": "2024-01-08T10:31:38.289872Z",
          "shell.execute_reply.started": "2024-01-08T10:31:38.137239Z",
          "shell.execute_reply": "2024-01-08T10:31:38.288121Z"
        },
        "trusted": true,
        "id": "HrNo4M429YCD"
      },
      "execution_count": null,
      "outputs": []
    },
    {
      "cell_type": "code",
      "source": [
        "#Weather Condition\n",
        "df9 = pd.read_csv('/kaggle/input/road-accident-casualties/wheather_condictions_accident.csv')\n",
        "df9['Weather_Conditions'].value_counts(normalize=1).reset_index(name='%')"
      ],
      "metadata": {
        "execution": {
          "iopub.status.busy": "2024-01-08T10:32:05.832872Z",
          "iopub.execute_input": "2024-01-08T10:32:05.833331Z",
          "iopub.status.idle": "2024-01-08T10:32:06.001033Z",
          "shell.execute_reply.started": "2024-01-08T10:32:05.833298Z",
          "shell.execute_reply": "2024-01-08T10:32:06.000062Z"
        },
        "trusted": true,
        "id": "l7kwGL4M9YCD"
      },
      "execution_count": null,
      "outputs": []
    },
    {
      "cell_type": "code",
      "source": [
        "#Vehicle type causing higher risk of accident\n",
        "df10 = pd.read_csv('/kaggle/input/road-accident-casualties/vehicule_type.csv')\n",
        "plt.figure(figsize=(8,4))\n",
        "sns.barplot(data = df10['Vehicle_Type'].value_counts().reset_index(name='Count'), y='Vehicle_Type', x='Count')\n",
        "plt.title('Road-accident-casualties/vehicule_type')\n",
        "plt.show()"
      ],
      "metadata": {
        "execution": {
          "iopub.status.busy": "2024-01-08T10:33:02.661355Z",
          "iopub.execute_input": "2024-01-08T10:33:02.661811Z",
          "iopub.status.idle": "2024-01-08T10:33:03.115295Z",
          "shell.execute_reply.started": "2024-01-08T10:33:02.661779Z",
          "shell.execute_reply": "2024-01-08T10:33:03.114211Z"
        },
        "trusted": true,
        "id": "WOLGMAJ09YCD"
      },
      "execution_count": null,
      "outputs": []
    }
  ]
}